{
 "cells": [
  {
   "cell_type": "markdown",
   "metadata": {},
   "source": [
    "# Descripcion del proyecto"
   ]
  },
  {
   "cell_type": "markdown",
   "metadata": {},
   "source": [
    "El servicio de venta de autos usados Rusty Bargain está desarrollando una aplicación para atraer nuevos clientes. Gracias a esa app, puedes averiguar rápidamente el valor de mercado de tu coche. Tienes acceso al historial: especificaciones técnicas, versiones de equipamiento y precios. Tienes que crear un modelo que determine el valor de mercado.\n",
    "A Rusty Bargain le interesa:\n",
    "- la calidad de la predicción;\n",
    "- la velocidad de la predicción;\n",
    "- el tiempo requerido para el entrenamiento"
   ]
  },
  {
   "cell_type": "markdown",
   "metadata": {},
   "source": [
    "# Inicialización"
   ]
  },
  {
   "cell_type": "code",
   "execution_count": 61,
   "metadata": {},
   "outputs": [],
   "source": [
    "# Cargamos todas las librerias que creemos que vamos a utilizar\n",
    "import pandas as pd\n",
    "import numpy as np\n",
    "import matplotlib.pyplot as plt\n",
    "import seaborn as sns\n",
    "import time\n",
    "\n",
    "from sklearn.model_selection import train_test_split\n",
    "from sklearn.preprocessing import OneHotEncoder\n",
    "from sklearn.preprocessing import StandardScaler\n",
    "\n",
    "from sklearn.linear_model import LinearRegression\n",
    "from sklearn.ensemble import RandomForestRegressor\n",
    "from sklearn.tree import DecisionTreeRegressor\n",
    "\n",
    "from sklearn.metrics import mean_squared_error\n",
    "from sklearn.metrics import r2_score\n",
    "from sklearn.metrics import roc_auc_score\n",
    "\n",
    "from xgboost import XGBRegressor\n",
    "from lightgbm import LGBMRegressor\n",
    "from catboost import CatBoostRegressor"
   ]
  },
  {
   "cell_type": "markdown",
   "metadata": {},
   "source": [
    "## Preparación de datos"
   ]
  },
  {
   "cell_type": "code",
   "execution_count": 62,
   "metadata": {},
   "outputs": [],
   "source": [
    "#Cargamos los datos\n",
    "df = pd.read_csv('/datasets/car_data.csv')"
   ]
  },
  {
   "cell_type": "code",
   "execution_count": 63,
   "metadata": {},
   "outputs": [
    {
     "name": "stdout",
     "output_type": "stream",
     "text": [
      "(354369, 16)\n",
      "        DateCrawled  Price VehicleType  RegistrationYear Gearbox  Power  \\\n",
      "0  24/03/2016 11:52    480         NaN              1993  manual      0   \n",
      "1  24/03/2016 10:58  18300       coupe              2011  manual    190   \n",
      "2  14/03/2016 12:52   9800         suv              2004    auto    163   \n",
      "3  17/03/2016 16:54   1500       small              2001  manual     75   \n",
      "4  31/03/2016 17:25   3600       small              2008  manual     69   \n",
      "\n",
      "   Model  Mileage  RegistrationMonth  FuelType       Brand NotRepaired  \\\n",
      "0   golf   150000                  0    petrol  volkswagen         NaN   \n",
      "1    NaN   125000                  5  gasoline        audi         yes   \n",
      "2  grand   125000                  8  gasoline        jeep         NaN   \n",
      "3   golf   150000                  6    petrol  volkswagen          no   \n",
      "4  fabia    90000                  7  gasoline       skoda          no   \n",
      "\n",
      "        DateCreated  NumberOfPictures  PostalCode          LastSeen  \n",
      "0  24/03/2016 00:00                 0       70435  07/04/2016 03:16  \n",
      "1  24/03/2016 00:00                 0       66954  07/04/2016 01:46  \n",
      "2  14/03/2016 00:00                 0       90480  05/04/2016 12:47  \n",
      "3  17/03/2016 00:00                 0       91074  17/03/2016 17:40  \n",
      "4  31/03/2016 00:00                 0       60437  06/04/2016 10:17  \n",
      "\n",
      "<class 'pandas.core.frame.DataFrame'>\n",
      "RangeIndex: 354369 entries, 0 to 354368\n",
      "Data columns (total 16 columns):\n",
      " #   Column             Non-Null Count   Dtype \n",
      "---  ------             --------------   ----- \n",
      " 0   DateCrawled        354369 non-null  object\n",
      " 1   Price              354369 non-null  int64 \n",
      " 2   VehicleType        316879 non-null  object\n",
      " 3   RegistrationYear   354369 non-null  int64 \n",
      " 4   Gearbox            334536 non-null  object\n",
      " 5   Power              354369 non-null  int64 \n",
      " 6   Model              334664 non-null  object\n",
      " 7   Mileage            354369 non-null  int64 \n",
      " 8   RegistrationMonth  354369 non-null  int64 \n",
      " 9   FuelType           321474 non-null  object\n",
      " 10  Brand              354369 non-null  object\n",
      " 11  NotRepaired        283215 non-null  object\n",
      " 12  DateCreated        354369 non-null  object\n",
      " 13  NumberOfPictures   354369 non-null  int64 \n",
      " 14  PostalCode         354369 non-null  int64 \n",
      " 15  LastSeen           354369 non-null  object\n",
      "dtypes: int64(7), object(9)\n",
      "memory usage: 43.3+ MB\n"
     ]
    }
   ],
   "source": [
    "#validamos las dimensiones del dataframe (usamos shape) e imprimimos las primeras filas (usamos head)\n",
    "print(df.shape)\n",
    "print(df.head())\n",
    "print()\n",
    "#mostramos la informacion del dataframe con el metodo info\n",
    "df.info()"
   ]
  },
  {
   "cell_type": "code",
   "execution_count": 64,
   "metadata": {},
   "outputs": [
    {
     "name": "stdout",
     "output_type": "stream",
     "text": [
      "<class 'pandas.core.frame.DataFrame'>\n",
      "RangeIndex: 354369 entries, 0 to 354368\n",
      "Data columns (total 16 columns):\n",
      " #   Column              Non-Null Count   Dtype \n",
      "---  ------              --------------   ----- \n",
      " 0   date_crawled        354369 non-null  object\n",
      " 1   price               354369 non-null  int64 \n",
      " 2   vehicle_type        316879 non-null  object\n",
      " 3   registration_year   354369 non-null  int64 \n",
      " 4   gearbox             334536 non-null  object\n",
      " 5   power               354369 non-null  int64 \n",
      " 6   model               334664 non-null  object\n",
      " 7   mileage             354369 non-null  int64 \n",
      " 8   registration_month  354369 non-null  int64 \n",
      " 9   fuel_type           321474 non-null  object\n",
      " 10  brand               354369 non-null  object\n",
      " 11  not_repaired        283215 non-null  object\n",
      " 12  date_created        354369 non-null  object\n",
      " 13  number_of_pictures  354369 non-null  int64 \n",
      " 14  postal_code         354369 non-null  int64 \n",
      " 15  last_seen           354369 non-null  object\n",
      "dtypes: int64(7), object(9)\n",
      "memory usage: 43.3+ MB\n"
     ]
    }
   ],
   "source": [
    "#Renombramos las columnas para que el código se vea más coherente con su estilo.\n",
    "df = df.rename(columns={'DateCrawled': 'date_crawled', 'Price': 'price', 'VehicleType': 'vehicle_type', 'RegistrationYear': 'registration_year',\n",
    "                        'Gearbox': 'gearbox', 'Power': 'power', 'Model': 'model', 'Mileage': 'mileage', 'RegistrationMonth': 'registration_month',\n",
    "                        'FuelType': 'fuel_type', 'Brand': 'brand', 'NotRepaired': 'not_repaired', 'DateCreated': 'date_created',\n",
    "                        'NumberOfPictures': 'number_of_pictures', 'PostalCode': 'postal_code', 'LastSeen': 'last_seen'})\n",
    "\n",
    "#Validamos los cambios con el metodo info\n",
    "df.info()"
   ]
  },
  {
   "cell_type": "code",
   "execution_count": 65,
   "metadata": {},
   "outputs": [
    {
     "name": "stdout",
     "output_type": "stream",
     "text": [
      "<class 'pandas.core.frame.DataFrame'>\n",
      "RangeIndex: 354369 entries, 0 to 354368\n",
      "Data columns (total 11 columns):\n",
      " #   Column              Non-Null Count   Dtype \n",
      "---  ------              --------------   ----- \n",
      " 0   price               354369 non-null  int64 \n",
      " 1   vehicle_type        316879 non-null  object\n",
      " 2   registration_year   354369 non-null  int64 \n",
      " 3   gearbox             334536 non-null  object\n",
      " 4   power               354369 non-null  int64 \n",
      " 5   model               334664 non-null  object\n",
      " 6   mileage             354369 non-null  int64 \n",
      " 7   registration_month  354369 non-null  int64 \n",
      " 8   fuel_type           321474 non-null  object\n",
      " 9   brand               354369 non-null  object\n",
      " 10  not_repaired        283215 non-null  object\n",
      "dtypes: int64(5), object(6)\n",
      "memory usage: 29.7+ MB\n"
     ]
    }
   ],
   "source": [
    "# Eliminamos las columnas innecesarias para nuestro modelo\n",
    "df = df.drop(['date_crawled', 'date_created', 'number_of_pictures', 'postal_code', 'last_seen'], axis=1)\n",
    "\n",
    "#Validamos los cambios con el metodo info\n",
    "df.info()"
   ]
  },
  {
   "cell_type": "markdown",
   "metadata": {},
   "source": [
    "se realiza la validacion del dataframe a traves del metodo info para tener una vista inicial de los datos, se procedió a cambiar el nombre de las columnas para que se vea mas coherente ya que algunas columnas cuentan con mayusculas y espacios. se procedió a eliminar las columnas ('date_crawled', 'date_created', 'number_of_pictures', 'postal_code', 'last_seen') que inicialmente consideramos son innecesarias para nuestro modelo ya que no cuentan con informacion relevante."
   ]
  },
  {
   "cell_type": "markdown",
   "metadata": {},
   "source": [
    "### Resumen estadístico de las variables"
   ]
  },
  {
   "cell_type": "code",
   "execution_count": 66,
   "metadata": {},
   "outputs": [
    {
     "name": "stdout",
     "output_type": "stream",
     "text": [
      "               price  registration_year          power        mileage  \\\n",
      "count  354369.000000      354369.000000  354369.000000  354369.000000   \n",
      "mean     4416.656776        2004.234448     110.094337  128211.172535   \n",
      "std      4514.158514          90.227958     189.850405   37905.341530   \n",
      "min         0.000000        1000.000000       0.000000    5000.000000   \n",
      "25%      1050.000000        1999.000000      69.000000  125000.000000   \n",
      "50%      2700.000000        2003.000000     105.000000  150000.000000   \n",
      "75%      6400.000000        2008.000000     143.000000  150000.000000   \n",
      "max     20000.000000        9999.000000   20000.000000  150000.000000   \n",
      "\n",
      "       registration_month  \n",
      "count       354369.000000  \n",
      "mean             5.714645  \n",
      "std              3.726421  \n",
      "min              0.000000  \n",
      "25%              3.000000  \n",
      "50%              6.000000  \n",
      "75%              9.000000  \n",
      "max             12.000000  \n"
     ]
    }
   ],
   "source": [
    "#Mostramos un resumen estadístico de las variables utilizando el metodo describe\n",
    "print(df.describe())"
   ]
  },
  {
   "cell_type": "markdown",
   "metadata": {},
   "source": [
    "### Duplicados"
   ]
  },
  {
   "cell_type": "code",
   "execution_count": 67,
   "metadata": {},
   "outputs": [
    {
     "name": "stdout",
     "output_type": "stream",
     "text": [
      "27543\n",
      "        price vehicle_type  registration_year gearbox  power      model  \\\n",
      "1396        0          NaN               2000     NaN      0        NaN   \n",
      "3025     2800        wagon               2005     NaN      0     touran   \n",
      "3458      300        small               2000  manual     54      corsa   \n",
      "3551     1670        sedan               1999  manual     75       golf   \n",
      "3786     2999        sedan               2002  manual    101       golf   \n",
      "...       ...          ...                ...     ...    ...        ...   \n",
      "354336   3299          NaN               2005    auto      0  outlander   \n",
      "354337  11500        sedan               2004    auto    445        7er   \n",
      "354352   6500        sedan               2003    auto    145   e_klasse   \n",
      "354355   4400        sedan               2008  manual    105       leon   \n",
      "354363   1150          bus               2000  manual      0     zafira   \n",
      "\n",
      "        mileage  registration_month fuel_type          brand not_repaired  \n",
      "1396     150000                   0       NaN          volvo          NaN  \n",
      "3025     150000                  11  gasoline     volkswagen           no  \n",
      "3458     150000                   0    petrol           opel          NaN  \n",
      "3551     150000                   8    petrol     volkswagen           no  \n",
      "3786     150000                   6  gasoline     volkswagen           no  \n",
      "...         ...                 ...       ...            ...          ...  \n",
      "354336   150000                   4    petrol     mitsubishi          NaN  \n",
      "354337   125000                   0    petrol            bmw          NaN  \n",
      "354352   150000                   3  gasoline  mercedes_benz           no  \n",
      "354355   150000                   7  gasoline           seat           no  \n",
      "354363   150000                   3    petrol           opel           no  \n",
      "\n",
      "[27543 rows x 11 columns]\n"
     ]
    }
   ],
   "source": [
    "# validamos si tenemos valores duplicados en el dataframe con el metodo duplicated\n",
    "print(df.duplicated().sum())\n",
    "\n",
    "#mostramos los duplicados\n",
    "print(df[df.duplicated()])"
   ]
  },
  {
   "cell_type": "code",
   "execution_count": 68,
   "metadata": {},
   "outputs": [
    {
     "name": "stdout",
     "output_type": "stream",
     "text": [
      "0\n"
     ]
    }
   ],
   "source": [
    "#eliminamos las filas duplicadas\n",
    "df.drop_duplicates(inplace=True)\n",
    "\n",
    "#validamos nuevamente el numero de duplicados\n",
    "print(df.duplicated().sum())"
   ]
  },
  {
   "cell_type": "markdown",
   "metadata": {},
   "source": [
    "### Valores ausentes"
   ]
  },
  {
   "cell_type": "code",
   "execution_count": 69,
   "metadata": {},
   "outputs": [
    {
     "name": "stdout",
     "output_type": "stream",
     "text": [
      "price                     0\n",
      "vehicle_type          35249\n",
      "registration_year         0\n",
      "gearbox               17578\n",
      "power                     0\n",
      "model                 18532\n",
      "mileage                   0\n",
      "registration_month        0\n",
      "fuel_type             31122\n",
      "brand                     0\n",
      "not_repaired          66427\n",
      "dtype: int64\n"
     ]
    }
   ],
   "source": [
    "#validamos si tenemos valores ausentes con el metodo isna\n",
    "print(df.isna().sum())"
   ]
  },
  {
   "cell_type": "code",
   "execution_count": 70,
   "metadata": {},
   "outputs": [
    {
     "data": {
      "text/plain": [
       "price                  0.000000\n",
       "vehicle_type          10.785250\n",
       "registration_year      0.000000\n",
       "gearbox                5.378397\n",
       "power                  0.000000\n",
       "model                  5.670296\n",
       "mileage                0.000000\n",
       "registration_month     0.000000\n",
       "fuel_type              9.522498\n",
       "brand                  0.000000\n",
       "not_repaired          20.324882\n",
       "dtype: float64"
      ]
     },
     "execution_count": 70,
     "metadata": {},
     "output_type": "execute_result"
    }
   ],
   "source": [
    "#validamos el porcentaje de los valores ausentes por columna \n",
    "df.isna().sum()/df.shape[0]*100"
   ]
  },
  {
   "cell_type": "code",
   "execution_count": 71,
   "metadata": {},
   "outputs": [],
   "source": [
    "# eliminamos los valores ausentes de las columnas gearbox y model\n",
    "df.dropna(subset=['gearbox', 'model'], inplace = True)"
   ]
  },
  {
   "cell_type": "code",
   "execution_count": 72,
   "metadata": {},
   "outputs": [],
   "source": [
    "# remplazamos los valores ausentes de las columnas vehicle_type y fuel_type  por 'unknown'\n",
    "df['vehicle_type'].fillna('unknown', inplace = True)\n",
    "df['fuel_type'].fillna('unknown', inplace = True)"
   ]
  },
  {
   "cell_type": "code",
   "execution_count": 73,
   "metadata": {},
   "outputs": [
    {
     "data": {
      "text/plain": [
       "no     213578\n",
       "yes     30874\n",
       "Name: not_repaired, dtype: int64"
      ]
     },
     "execution_count": 73,
     "metadata": {},
     "output_type": "execute_result"
    }
   ],
   "source": [
    "#validamos la cantidad de vehiculos que tienen o no reparaciones\n",
    "df['not_repaired'].value_counts()"
   ]
  },
  {
   "cell_type": "code",
   "execution_count": 74,
   "metadata": {},
   "outputs": [],
   "source": [
    "# remplazamos los valores ausentes de la columna not_repaired por 'no'\n",
    "df['not_repaired'].fillna('no', inplace = True)"
   ]
  },
  {
   "cell_type": "code",
   "execution_count": 75,
   "metadata": {},
   "outputs": [
    {
     "name": "stdout",
     "output_type": "stream",
     "text": [
      "price                 0\n",
      "vehicle_type          0\n",
      "registration_year     0\n",
      "gearbox               0\n",
      "power                 0\n",
      "model                 0\n",
      "mileage               0\n",
      "registration_month    0\n",
      "fuel_type             0\n",
      "brand                 0\n",
      "not_repaired          0\n",
      "dtype: int64\n",
      "<class 'pandas.core.frame.DataFrame'>\n",
      "Int64Index: 294249 entries, 0 to 354368\n",
      "Data columns (total 11 columns):\n",
      " #   Column              Non-Null Count   Dtype \n",
      "---  ------              --------------   ----- \n",
      " 0   price               294249 non-null  int64 \n",
      " 1   vehicle_type        294249 non-null  object\n",
      " 2   registration_year   294249 non-null  int64 \n",
      " 3   gearbox             294249 non-null  object\n",
      " 4   power               294249 non-null  int64 \n",
      " 5   model               294249 non-null  object\n",
      " 6   mileage             294249 non-null  int64 \n",
      " 7   registration_month  294249 non-null  int64 \n",
      " 8   fuel_type           294249 non-null  object\n",
      " 9   brand               294249 non-null  object\n",
      " 10  not_repaired        294249 non-null  object\n",
      "dtypes: int64(5), object(6)\n",
      "memory usage: 26.9+ MB\n"
     ]
    }
   ],
   "source": [
    "# validamos nuevamente si tenemos valores ausentes\n",
    "print(df.isna().sum())\n",
    "\n",
    "df.info()"
   ]
  },
  {
   "cell_type": "markdown",
   "metadata": {},
   "source": [
    "se validó si contamos con filas duplicadas, lo cual nos arrojo un valor de 27543, los cuales se proceden a eliminar ya que hay múltiples entradas con la misma información en todas las columnas, esto nos dice que no hay variación en los datos de esos vehículos, lo que sugiere que representan el mismo vehículo.\n",
    "\n",
    "se verificó los valores ausentes en el dataframe, el cual nos arrojo valores en las columnas 'gearbox', 'model', 'vehicle_type', 'fuel_type' y not_repaired; se procedio a eliminar los valores ausentes de las columnas 'gearbox', 'model' ya que representan un porcertaje muy bajo (5.6%), a las columnas 'vehicle_type' y 'fuel_type' se rellenaron los valores ausentes con la palabra unknown, ya que no se considera viable eliminar dichos valores porque dichas caracteristicas pueden influir altamente en el precio del vehiculo.\n",
    "\n",
    "Para la columna not_repaired se procede a validar y el valor mas representativo es 'no' (vehiculos no han sido reparados), por lo cual se tomo este valor para rellenar los valores ausentes."
   ]
  },
  {
   "cell_type": "markdown",
   "metadata": {},
   "source": [
    "### Análisis de las columnas registration_year, brand y model"
   ]
  },
  {
   "cell_type": "markdown",
   "metadata": {},
   "source": [
    "#### registration_year"
   ]
  },
  {
   "cell_type": "code",
   "execution_count": 76,
   "metadata": {},
   "outputs": [
    {
     "name": "stdout",
     "output_type": "stream",
     "text": [
      "[1000 1200 1400 1500 1600 1602 1910 1919 1923 1927 1928 1929 1930 1931\n",
      " 1932 1933 1934 1935 1936 1937 1938 1942 1943 1945 1947 1950 1951 1952\n",
      " 1953 1954 1955 1956 1957 1958 1959 1960 1961 1962 1963 1964 1965 1966\n",
      " 1967 1968 1969 1970 1971 1972 1973 1974 1975 1976 1977 1978 1979 1980\n",
      " 1981 1982 1983 1984 1985 1986 1987 1988 1989 1990 1991 1992 1993 1994\n",
      " 1995 1996 1997 1998 1999 2000 2001 2002 2003 2004 2005 2006 2007 2008\n",
      " 2009 2010 2011 2012 2013 2014 2015 2016 2017 2018 2019 2900 3000 3700\n",
      " 4000 4500 5000 5911 6000 6500 7100 7500 8200 9000]\n"
     ]
    }
   ],
   "source": [
    "#validamos los valores unicos de la columna registration_year\n",
    "print(df['registration_year'].sort_values().unique())"
   ]
  },
  {
   "cell_type": "code",
   "execution_count": 77,
   "metadata": {},
   "outputs": [],
   "source": [
    "#filtramos el dataframe solo con los años relevantes\n",
    "df = df[(df['registration_year'] > 1909) & (df['registration_year'] < 2020)]"
   ]
  },
  {
   "cell_type": "markdown",
   "metadata": {},
   "source": [
    "#### brand"
   ]
  },
  {
   "cell_type": "code",
   "execution_count": 78,
   "metadata": {},
   "outputs": [
    {
     "name": "stdout",
     "output_type": "stream",
     "text": [
      "['alfa_romeo' 'audi' 'bmw' 'chevrolet' 'chrysler' 'citroen' 'dacia'\n",
      " 'daewoo' 'daihatsu' 'fiat' 'ford' 'honda' 'hyundai' 'jaguar' 'jeep' 'kia'\n",
      " 'lada' 'lancia' 'land_rover' 'mazda' 'mercedes_benz' 'mini' 'mitsubishi'\n",
      " 'nissan' 'opel' 'peugeot' 'porsche' 'renault' 'rover' 'saab' 'seat'\n",
      " 'skoda' 'smart' 'subaru' 'suzuki' 'toyota' 'trabant' 'volkswagen' 'volvo']\n"
     ]
    }
   ],
   "source": [
    "#validamos los valores unicos de la columna brand\n",
    "print(df['brand'].sort_values().unique())"
   ]
  },
  {
   "cell_type": "code",
   "execution_count": 79,
   "metadata": {},
   "outputs": [
    {
     "name": "stdout",
     "output_type": "stream",
     "text": [
      "volkswagen       63410\n",
      "other            54946\n",
      "opel             33152\n",
      "bmw              30997\n",
      "mercedes_benz    27627\n",
      "audi             24841\n",
      "ford             21272\n",
      "renault          15057\n",
      "peugeot           8986\n",
      "fiat              7981\n",
      "seat              5957\n",
      "Name: brand, dtype: int64\n"
     ]
    }
   ],
   "source": [
    "# Contamos las marcas y obtenemos las 10 más comunes\n",
    "top_brands = df['brand'].value_counts().nlargest(10).index\n",
    "\n",
    "# Reemplazamos las marcas que no están en las top 10 con 'other'\n",
    "df['brand'] = df['brand'].apply(lambda x: x if x in top_brands else 'other')\n",
    "\n",
    "# Ahora puedes verificar el resultado\n",
    "print(df['brand'].value_counts())"
   ]
  },
  {
   "cell_type": "code",
   "execution_count": 80,
   "metadata": {},
   "outputs": [
    {
     "name": "stdout",
     "output_type": "stream",
     "text": [
      "['audi' 'bmw' 'fiat' 'ford' 'mercedes_benz' 'opel' 'other' 'peugeot'\n",
      " 'renault' 'seat' 'volkswagen']\n"
     ]
    }
   ],
   "source": [
    "#validamos nuevamente los valores unicos de la columna brand\n",
    "print(df['brand'].sort_values().unique())"
   ]
  },
  {
   "cell_type": "markdown",
   "metadata": {},
   "source": [
    "#### model"
   ]
  },
  {
   "cell_type": "code",
   "execution_count": 81,
   "metadata": {},
   "outputs": [
    {
     "name": "stdout",
     "output_type": "stream",
     "text": [
      "['100' '145' '147' '156' '159' '1_reihe' '1er' '200' '2_reihe' '300c'\n",
      " '3_reihe' '3er' '4_reihe' '500' '5_reihe' '5er' '601' '6_reihe' '6er'\n",
      " '7er' '80' '850' '90' '900' '9000' '911' 'a1' 'a2' 'a3' 'a4' 'a5' 'a6'\n",
      " 'a8' 'a_klasse' 'accord' 'agila' 'alhambra' 'almera' 'altea' 'amarok'\n",
      " 'antara' 'arosa' 'astra' 'auris' 'avensis' 'aveo' 'aygo' 'b_klasse'\n",
      " 'b_max' 'beetle' 'berlingo' 'bora' 'boxster' 'bravo' 'c1' 'c2' 'c3' 'c4'\n",
      " 'c5' 'c_klasse' 'c_max' 'c_reihe' 'caddy' 'calibra' 'captiva' 'carisma'\n",
      " 'carnival' 'cayenne' 'cc' 'ceed' 'charade' 'cherokee' 'citigo' 'civic'\n",
      " 'cl' 'clio' 'clk' 'clubman' 'colt' 'combo' 'cooper' 'cordoba' 'corolla'\n",
      " 'corsa' 'cr_reihe' 'croma' 'crossfire' 'cuore' 'cx_reihe' 'defender'\n",
      " 'delta' 'discovery' 'doblo' 'ducato' 'duster' 'e_klasse' 'elefantino'\n",
      " 'eos' 'escort' 'espace' 'exeo' 'fabia' 'fiesta' 'focus' 'forester'\n",
      " 'forfour' 'fortwo' 'fox' 'freelander' 'fusion' 'g_klasse' 'galant'\n",
      " 'galaxy' 'getz' 'gl' 'glk' 'golf' 'grand' 'i3' 'i_reihe' 'ibiza'\n",
      " 'impreza' 'insignia' 'jazz' 'jetta' 'jimny' 'juke' 'justy' 'ka' 'kadett'\n",
      " 'kaefer' 'kalina' 'kalos' 'kangoo' 'kappa' 'kuga' 'laguna' 'lancer'\n",
      " 'lanos' 'legacy' 'leon' 'lodgy' 'logan' 'lupo' 'lybra' 'm_klasse'\n",
      " 'm_reihe' 'materia' 'matiz' 'megane' 'meriva' 'micra' 'mii' 'modus'\n",
      " 'mondeo' 'move' 'musa' 'mustang' 'mx_reihe' 'navara' 'niva' 'note'\n",
      " 'nubira' 'octavia' 'omega' 'one' 'other' 'outlander' 'pajero' 'panda'\n",
      " 'passat' 'phaeton' 'picanto' 'polo' 'primera' 'ptcruiser' 'punto' 'q3'\n",
      " 'q5' 'q7' 'qashqai' 'r19' 'range_rover' 'range_rover_evoque'\n",
      " 'range_rover_sport' 'rangerover' 'rav' 'rio' 'roadster' 'roomster'\n",
      " 'rx_reihe' 's60' 's_klasse' 's_max' 's_type' 'samara' 'sandero' 'santa'\n",
      " 'scenic' 'scirocco' 'seicento' 'serie_1' 'serie_2' 'serie_3' 'sharan'\n",
      " 'signum' 'sirion' 'sl' 'slk' 'sorento' 'spark' 'spider' 'sportage'\n",
      " 'sprinter' 'stilo' 'superb' 'swift' 'terios' 'tigra' 'tiguan' 'toledo'\n",
      " 'touareg' 'touran' 'transit' 'transporter' 'tt' 'tucson' 'twingo' 'up'\n",
      " 'v40' 'v50' 'v60' 'v70' 'v_klasse' 'vectra' 'verso' 'viano' 'vito'\n",
      " 'vivaro' 'voyager' 'wrangler' 'x_reihe' 'x_trail' 'x_type' 'xc_reihe'\n",
      " 'yaris' 'yeti' 'ypsilon' 'z_reihe' 'zafira']\n"
     ]
    }
   ],
   "source": [
    "#validamos los valores unicos de la columna model\n",
    "print(df['model'].sort_values().unique())"
   ]
  },
  {
   "cell_type": "code",
   "execution_count": 82,
   "metadata": {},
   "outputs": [],
   "source": [
    "# Omitimos la columna 'model' del DataFrame\n",
    "df = df.drop('model', axis = 1)"
   ]
  },
  {
   "cell_type": "code",
   "execution_count": 83,
   "metadata": {},
   "outputs": [
    {
     "name": "stdout",
     "output_type": "stream",
     "text": [
      "<class 'pandas.core.frame.DataFrame'>\n",
      "Int64Index: 294226 entries, 0 to 354368\n",
      "Data columns (total 10 columns):\n",
      " #   Column              Non-Null Count   Dtype \n",
      "---  ------              --------------   ----- \n",
      " 0   price               294226 non-null  int64 \n",
      " 1   vehicle_type        294226 non-null  object\n",
      " 2   registration_year   294226 non-null  int64 \n",
      " 3   gearbox             294226 non-null  object\n",
      " 4   power               294226 non-null  int64 \n",
      " 5   mileage             294226 non-null  int64 \n",
      " 6   registration_month  294226 non-null  int64 \n",
      " 7   fuel_type           294226 non-null  object\n",
      " 8   brand               294226 non-null  object\n",
      " 9   not_repaired        294226 non-null  object\n",
      "dtypes: int64(5), object(5)\n",
      "memory usage: 24.7+ MB\n"
     ]
    }
   ],
   "source": [
    "df.info()"
   ]
  },
  {
   "cell_type": "markdown",
   "metadata": {},
   "source": [
    "Se realiza la validacion de la columna registration_year y se evidencia que hay años irrelevantes(años muy antiguos o valores ilogicos) para lo cual se filtra el dataframe dejando solo los años relevantes (1909 a 2019), se eliminan registros que probablemente no representan vehículos válidos.\n",
    "\n",
    "De la columna brand se validan los valores unicos para conocer la variedad de las marcas, al haber muchas marcas se procede a hallar las 10 marcas mas relevantes para una interpretacion mas clara, las marcas que no se encuentren entre las 10 mas comunes se remplazaron por el nombre 'other'. esto podria evitar que el modelo se vea afectado por marcas que tienen pocos registros.\n",
    "\n",
    "Se decidió omitir la columna 'model' del análisis debido a la gran cantidad de categorías únicas (mas de 200). Esto podría introducir complejidad innecesaria al modelo y potencialmente llevarlo al sobreajuste."
   ]
  },
  {
   "cell_type": "markdown",
   "metadata": {},
   "source": [
    "## Entrenamiento del modelo "
   ]
  },
  {
   "cell_type": "markdown",
   "metadata": {},
   "source": [
    "### Procesamiento de caracteristicas"
   ]
  },
  {
   "cell_type": "code",
   "execution_count": 84,
   "metadata": {},
   "outputs": [
    {
     "name": "stdout",
     "output_type": "stream",
     "text": [
      "   price  registration_year  power  mileage  registration_month  \\\n",
      "0    480               1993      0   150000                   0   \n",
      "2   9800               2004    163   125000                   8   \n",
      "3   1500               2001     75   150000                   6   \n",
      "4   3600               2008     69    90000                   7   \n",
      "5    650               1995    102   150000                  10   \n",
      "\n",
      "   vehicle_type_convertible  vehicle_type_coupe  vehicle_type_other  \\\n",
      "0                         0                   0                   0   \n",
      "2                         0                   0                   0   \n",
      "3                         0                   0                   0   \n",
      "4                         0                   0                   0   \n",
      "5                         0                   0                   0   \n",
      "\n",
      "   vehicle_type_sedan  vehicle_type_small  ...  brand_fiat  brand_ford  \\\n",
      "0                   0                   0  ...           0           0   \n",
      "2                   0                   0  ...           0           0   \n",
      "3                   0                   1  ...           0           0   \n",
      "4                   0                   1  ...           0           0   \n",
      "5                   1                   0  ...           0           0   \n",
      "\n",
      "   brand_mercedes_benz  brand_opel  brand_other  brand_peugeot  brand_renault  \\\n",
      "0                    0           0            0              0              0   \n",
      "2                    0           0            1              0              0   \n",
      "3                    0           0            0              0              0   \n",
      "4                    0           0            1              0              0   \n",
      "5                    0           0            0              0              0   \n",
      "\n",
      "   brand_seat  brand_volkswagen  not_repaired_yes  \n",
      "0           0                 1                 0  \n",
      "2           0                 0                 0  \n",
      "3           0                 1                 0  \n",
      "4           0                 0                 0  \n",
      "5           0                 0                 1  \n",
      "\n",
      "[5 rows x 32 columns]\n"
     ]
    }
   ],
   "source": [
    "#usamos la tecnica One-Hot Encoding para procesar caracteristicas categoricas\n",
    "df_ohe = pd.get_dummies(df, drop_first= True)\n",
    "print(df_ohe.head())"
   ]
  },
  {
   "cell_type": "code",
   "execution_count": 85,
   "metadata": {},
   "outputs": [
    {
     "name": "stdout",
     "output_type": "stream",
     "text": [
      "   price  registration_year     power   mileage  registration_month  \\\n",
      "0    480          -1.454668 -0.599406  0.577726           -1.617857   \n",
      "2   9800           0.113121  0.251886 -0.103931            0.580878   \n",
      "3   1500          -0.314458 -0.207707  0.577726            0.031194   \n",
      "4   3600           0.683226 -0.239043 -1.058251            0.306036   \n",
      "5    650          -1.169616 -0.066695  0.577726            1.130561   \n",
      "\n",
      "   vehicle_type_convertible  vehicle_type_coupe  vehicle_type_other  \\\n",
      "0                         0                   0                   0   \n",
      "2                         0                   0                   0   \n",
      "3                         0                   0                   0   \n",
      "4                         0                   0                   0   \n",
      "5                         0                   0                   0   \n",
      "\n",
      "   vehicle_type_sedan  vehicle_type_small  ...  brand_fiat  brand_ford  \\\n",
      "0                   0                   0  ...           0           0   \n",
      "2                   0                   0  ...           0           0   \n",
      "3                   0                   1  ...           0           0   \n",
      "4                   0                   1  ...           0           0   \n",
      "5                   1                   0  ...           0           0   \n",
      "\n",
      "   brand_mercedes_benz  brand_opel  brand_other  brand_peugeot  brand_renault  \\\n",
      "0                    0           0            0              0              0   \n",
      "2                    0           0            1              0              0   \n",
      "3                    0           0            0              0              0   \n",
      "4                    0           0            1              0              0   \n",
      "5                    0           0            0              0              0   \n",
      "\n",
      "   brand_seat  brand_volkswagen  not_repaired_yes  \n",
      "0           0                 1                 0  \n",
      "2           0                 0                 0  \n",
      "3           0                 1                 0  \n",
      "4           0                 0                 0  \n",
      "5           0                 0                 1  \n",
      "\n",
      "[5 rows x 32 columns]\n"
     ]
    }
   ],
   "source": [
    "#estandarizamos los datos de las caracteristicas numericas con el escalado de caracteristicas\n",
    "\n",
    "# definimos las columnas numéricas que necesitan escalado\n",
    "numerical_columns = ['registration_year', 'power', 'mileage', 'registration_month']\n",
    "\n",
    "scaler = StandardScaler() #creamos la instancia del escalador\n",
    "\n",
    "# Ajustamos el escalador a los datos y transformar las columnas numéricas\n",
    "df_ohe[numerical_columns] = scaler.fit_transform(df_ohe[numerical_columns])\n",
    "\n",
    "# mostramos los datos escalados\n",
    "print(df_ohe.head())"
   ]
  },
  {
   "cell_type": "markdown",
   "metadata": {},
   "source": [
    "Se utilizó la técnica de One-Hot Encoding para procesar las características categóricas mediante pd.get_dummies(). Esta transformación es esencial para varios de los modelos que vamos a entrenar, como la Regresión Lineal, Árbol de Decisión, Bosque Aleatorio y XGBoost, ya que no pueden manejar directamente las características categóricas.\n",
    "\n",
    "Además, se estandarizaron las características numéricas utilizando StandardScaler(). Este escalado asegura que todas las características se traten con igual importancia durante el entrenamiento"
   ]
  },
  {
   "cell_type": "markdown",
   "metadata": {},
   "source": [
    "### Entrenamiento y prueba de modelos "
   ]
  },
  {
   "cell_type": "code",
   "execution_count": 86,
   "metadata": {},
   "outputs": [],
   "source": [
    "# Separamos características y objetivo\n",
    "X = df_ohe.drop(['price', 'registration_month'], axis=1)\n",
    "y = df_ohe['price']\n",
    "\n",
    "# División en conjunto de entrenamiento (75%) y validacion (25%)\n",
    "X_train, X_valid, y_train, y_valid = train_test_split(X, y, test_size=0.25, random_state=12345)"
   ]
  },
  {
   "cell_type": "code",
   "execution_count": 87,
   "metadata": {},
   "outputs": [],
   "source": [
    "# hacemos una función para entrenar diferentes modelos y evaluar su rendimiento.\n",
    "\n",
    "def train_model(X_train, y_train, X_valid, y_valid, model_type, params={}):\n",
    "    \"\"\"\n",
    "    Parámetros:\n",
    "    X_train: Características de entrenamiento.\n",
    "    y_train: Objetivo de entrenamiento.\n",
    "    X_valid: Características de validación.\n",
    "    y_valid: Objetivo de validación.\n",
    "    model_type: Tipo de modelo ('RandomForest', 'DecisionTree', 'LinearRegression', 'XGBoost', 'LightGBM', 'CatBoost').\n",
    "    params: Hiperparámetros específicos del modelo.\n",
    "\n",
    "    Retorna:\n",
    "    model: Modelo entrenado.\n",
    "    rmse: RMSE del modelo en el conjunto de validación.\n",
    "    train_time: Tiempo de entrenamiento (segundos).\n",
    "    pred_time: Tiempo de predicción (segundos).\n",
    "    \"\"\"\n",
    "\n",
    "    # Inicializamos según el tipo del modelo\n",
    "    if model_type == 'RandomForest':\n",
    "        model = RandomForestRegressor(**params)\n",
    "    elif model_type == 'DecisionTree':\n",
    "        model = DecisionTreeRegressor(**params)\n",
    "    elif model_type == 'LinearRegression':\n",
    "        model = LinearRegression(**params)\n",
    "    elif model_type == 'XGBoost':\n",
    "        model = XGBRegressor(**params)\n",
    "    elif model_type == 'LightGBM':\n",
    "        model = LGBMRegressor(**params)\n",
    "    elif model_type == 'CatBoost':\n",
    "        model = CatBoostRegressor(**params, verbose=0)\n",
    "    else:\n",
    "        raise ValueError(\"Tipo de modelo no soportado.\")\n",
    "\n",
    "    # Medimos los tiempos de entrenamiento\n",
    "    start_train = time.time()\n",
    "    model.fit(X_train, y_train)\n",
    "    train_time = time.time() - start_train\n",
    "\n",
    "    # Medimos los tiempos de predicción\n",
    "    start_pred = time.time()\n",
    "    y_pred = model.predict(X_valid)\n",
    "    pred_time = time.time() - start_pred\n",
    "\n",
    "    # Calculamos el RMSE\n",
    "    rmse = (mean_squared_error(y_valid, y_pred)) ** 0.5\n",
    "\n",
    "    print(f\"{model_type} - RMSE: {rmse:.2f}, Tiempo de entrenamiento: {train_time:.4f} s, Tiempo de predicción: {pred_time:.4f} s\")\n",
    "\n",
    "    return model, rmse, train_time, pred_time\n"
   ]
  },
  {
   "cell_type": "markdown",
   "metadata": {},
   "source": [
    "Se procedió a separar las caracteristicas del objetivo y dividimos los datos en un conjunto de entrenamiento (75%) y un conjunto de validación (25%) utilizando train_test_split. adicionalmente se creó una función llamada train_model que se encargará de entrenar diferentes modelos y evaluar su rendimiento. Esta función acepta las características y el objetivo de entrenamiento y validación, el tipo de modelo a usar, y los hiperparámetros específicos del modelo como parámetros."
   ]
  },
  {
   "cell_type": "markdown",
   "metadata": {},
   "source": [
    "#### Modelo Regresion Lineal"
   ]
  },
  {
   "cell_type": "code",
   "execution_count": 88,
   "metadata": {},
   "outputs": [
    {
     "name": "stdout",
     "output_type": "stream",
     "text": [
      "LinearRegression - RMSE: 3095.71, Tiempo de entrenamiento: 0.1543 s, Tiempo de predicción: 0.0820 s\n"
     ]
    }
   ],
   "source": [
    "# Usamos la funcion para entrenar el modelo, evaluar rendimiento y calcular los tiempos de ejecución\n",
    "\n",
    "model_lr, rmse_lr, train_time_lr, pred_time_lr = train_model(\n",
    "    X_train, y_train, X_valid, y_valid, 'LinearRegression')"
   ]
  },
  {
   "cell_type": "markdown",
   "metadata": {},
   "source": [
    "#### Modelo Arbol de decisión"
   ]
  },
  {
   "cell_type": "code",
   "execution_count": 89,
   "metadata": {},
   "outputs": [
    {
     "name": "stdout",
     "output_type": "stream",
     "text": [
      "DecisionTree - RMSE: 2044.17, Tiempo de entrenamiento: 0.6701 s, Tiempo de predicción: 0.0124 s\n"
     ]
    }
   ],
   "source": [
    "# Usamos la funcion para entrenar el modelo, evaluar rendimiento y calcular los tiempos de ejecución\n",
    "\n",
    "params_dt = {'max_depth': 14, 'random_state': 12345}\n",
    "model_dt, rmse_dt, train_time_dt, pred_time_dt = train_model(\n",
    "    X_train, y_train, X_valid, y_valid, 'DecisionTree', params=params_dt)\n"
   ]
  },
  {
   "cell_type": "markdown",
   "metadata": {},
   "source": [
    "#### Modelo Bosque aleatorio"
   ]
  },
  {
   "cell_type": "code",
   "execution_count": 90,
   "metadata": {},
   "outputs": [
    {
     "name": "stdout",
     "output_type": "stream",
     "text": [
      "RandomForest - RMSE: 1820.87, Tiempo de entrenamiento: 45.4748 s, Tiempo de predicción: 1.4794 s\n"
     ]
    }
   ],
   "source": [
    "# Usamos la funcion para entrenar el modelo, evaluar rendimiento y calcular los tiempos de ejecución\n",
    "\n",
    "params_rf = {'n_estimators': 100, 'max_depth': 20, 'random_state': 12345}\n",
    "model_rf, rmse_rf, train_time_rf, pred_time_rf = train_model(\n",
    "    X_train, y_train, X_valid, y_valid, 'RandomForest', params=params_rf)"
   ]
  },
  {
   "cell_type": "markdown",
   "metadata": {},
   "source": [
    "#### LightGBM"
   ]
  },
  {
   "cell_type": "code",
   "execution_count": 91,
   "metadata": {},
   "outputs": [
    {
     "name": "stdout",
     "output_type": "stream",
     "text": [
      "LightGBM - RMSE: 1885.31, Tiempo de entrenamiento: 2.2484 s, Tiempo de predicción: 0.4061 s\n"
     ]
    }
   ],
   "source": [
    "# Usamos la funcion para entrenar el modelo, evaluar rendimiento y calcular los tiempos de ejecución\n",
    "\n",
    "params_lgbm = {'n_estimators': 100, 'learning_rate': 0.1, 'max_depth': 7, 'random_state': 12345}\n",
    "model_lgbm, rmse_lgbm, train_time_lgbm, pred_time_lgbm = train_model(\n",
    "    X_train, y_train, X_valid, y_valid, 'LightGBM', params=params_lgbm)"
   ]
  },
  {
   "cell_type": "code",
   "execution_count": 92,
   "metadata": {},
   "outputs": [
    {
     "name": "stdout",
     "output_type": "stream",
     "text": [
      "LightGBM - RMSE: 1880.14, Tiempo de entrenamiento: 4.2029 s, Tiempo de predicción: 0.6163 s\n"
     ]
    }
   ],
   "source": [
    "# Ajustamos algunos hiperparametros \n",
    "# Usamos la funcion para entrenar el modelo, evaluar rendimiento y calcular los tiempos de ejecución\n",
    "\n",
    "params_lgbm = {'n_estimators': 150, 'learning_rate': 0.05, 'max_depth': 15, 'random_state': 12345}\n",
    "model_lgbm, rmse_lgbm, train_time_lgbm, pred_time_lgbm = train_model(\n",
    "    X_train, y_train, X_valid, y_valid, 'LightGBM', params=params_lgbm)"
   ]
  },
  {
   "cell_type": "markdown",
   "metadata": {},
   "source": [
    "Evidenciamos que al ajustar algunos hiperparametros se obtuvo ligeramente un mejor rendimiento(RMSE)"
   ]
  },
  {
   "cell_type": "markdown",
   "metadata": {},
   "source": [
    "#### XGBoost "
   ]
  },
  {
   "cell_type": "code",
   "execution_count": 93,
   "metadata": {},
   "outputs": [
    {
     "name": "stdout",
     "output_type": "stream",
     "text": [
      "XGBoost - RMSE: 1840.96, Tiempo de entrenamiento: 46.9066 s, Tiempo de predicción: 0.2144 s\n"
     ]
    }
   ],
   "source": [
    "# Usamos la funcion para entrenar el modelo, evaluar rendimiento y calcular los tiempos de ejecución\n",
    "\n",
    "params_xgb = {'n_estimators': 100, 'learning_rate': 0.1, 'max_depth': 7,'objective': 'reg:squarederror', 'seed': 12345}\n",
    "model_xgb, rmse_xgb, train_time_xgb, pred_time_xgb = train_model(\n",
    "    X_train, y_train, X_valid, y_valid, 'XGBoost', params=params_xgb)"
   ]
  },
  {
   "cell_type": "code",
   "execution_count": 94,
   "metadata": {},
   "outputs": [
    {
     "name": "stdout",
     "output_type": "stream",
     "text": [
      "XGBoost - RMSE: 1787.18, Tiempo de entrenamiento: 123.4971 s, Tiempo de predicción: 0.6337 s\n"
     ]
    }
   ],
   "source": [
    "# Ajustamos algunos hiperparametros \n",
    "# Usamos la funcion para entrenar el modelo, evaluar rendimiento y calcular los tiempos de ejecución\n",
    "\n",
    "params_xgb = {'n_estimators': 150, 'learning_rate': 0.05, 'max_depth': 10,'objective': 'reg:squarederror', 'seed': 12345}\n",
    "model_xgb, rmse_xgb, train_time_xgb, pred_time_xgb = train_model(\n",
    "    X_train, y_train, X_valid, y_valid, 'XGBoost', params=params_xgb)"
   ]
  },
  {
   "cell_type": "markdown",
   "metadata": {},
   "source": [
    "Evidenciamos que al ajustar algunos hiperparametros se obtuvo un mejor rendimiento(RMSE)"
   ]
  },
  {
   "cell_type": "markdown",
   "metadata": {},
   "source": [
    "#### CatBoost"
   ]
  },
  {
   "cell_type": "code",
   "execution_count": 95,
   "metadata": {},
   "outputs": [
    {
     "name": "stdout",
     "output_type": "stream",
     "text": [
      "CatBoost - RMSE: 1948.39, Tiempo de entrenamiento: 2.5271 s, Tiempo de predicción: 0.0113 s\n"
     ]
    }
   ],
   "source": [
    "# Usamos la funcion para entrenar el modelo, evaluar rendimiento y calcular los tiempos de ejecución\n",
    "params_cat = {'iterations': 100, 'learning_rate': 0.1, 'depth': 7, 'random_state': 12345}\n",
    "model_cat, rmse_cat, train_time_cat, pred_time_cat = train_model(\n",
    "    X_train, y_train, X_valid, y_valid, 'CatBoost', params=params_cat)"
   ]
  },
  {
   "cell_type": "code",
   "execution_count": 96,
   "metadata": {},
   "outputs": [
    {
     "name": "stdout",
     "output_type": "stream",
     "text": [
      "CatBoost - RMSE: 1807.04, Tiempo de entrenamiento: 53.3748 s, Tiempo de predicción: 0.0384 s\n"
     ]
    }
   ],
   "source": [
    "# Ajustamos algunos hiperparametros \n",
    "# Usamos la funcion para entrenar el modelo, evaluar rendimiento y calcular los tiempos de ejecución\n",
    "params_cat = {'iterations': 100, 'learning_rate': 0.1, 'depth': 16, 'random_state': 12345}\n",
    "model_cat, rmse_cat, train_time_cat, pred_time_cat = train_model(\n",
    "    X_train, y_train, X_valid, y_valid, 'CatBoost', params=params_cat)"
   ]
  },
  {
   "cell_type": "markdown",
   "metadata": {},
   "source": [
    "Evidenciamos que al ajustar algunos hiperparametros se obtuvo un mejor rendimiento(RMSE)"
   ]
  },
  {
   "cell_type": "markdown",
   "metadata": {},
   "source": [
    "Se usa la funcion creada previamente en cada uno de los modelos para entrenar, evaluar el rendimiento y calcular los tiempos de ejecución.Dentro de la función, inicializamos el modelo según el tipo especificado y medimos el tiempo que toma entrenarlo y predecir. Utilizamos time.time() para capturar el tiempo antes y después de cada operación, lo que nos permite calcular el tiempo de entrenamiento y predicción."
   ]
  },
  {
   "cell_type": "markdown",
   "metadata": {},
   "source": [
    "## Análisis del modelo"
   ]
  },
  {
   "cell_type": "markdown",
   "metadata": {},
   "source": [
    "Realizamos una tabla con los resultados de todos los modelos con el fin de realizar un analisis y comparación."
   ]
  },
  {
   "cell_type": "code",
   "execution_count": 97,
   "metadata": {},
   "outputs": [
    {
     "data": {
      "text/html": [
       "<div>\n",
       "<style scoped>\n",
       "    .dataframe tbody tr th:only-of-type {\n",
       "        vertical-align: middle;\n",
       "    }\n",
       "\n",
       "    .dataframe tbody tr th {\n",
       "        vertical-align: top;\n",
       "    }\n",
       "\n",
       "    .dataframe thead th {\n",
       "        text-align: right;\n",
       "    }\n",
       "</style>\n",
       "<table border=\"1\" class=\"dataframe\">\n",
       "  <thead>\n",
       "    <tr style=\"text-align: right;\">\n",
       "      <th></th>\n",
       "      <th>Modelo</th>\n",
       "      <th>RMSE</th>\n",
       "      <th>Tiempo de Entrenamiento (s)</th>\n",
       "      <th>Tiempo de Predicción (s)</th>\n",
       "    </tr>\n",
       "  </thead>\n",
       "  <tbody>\n",
       "    <tr>\n",
       "      <th>0</th>\n",
       "      <td>XGBoost</td>\n",
       "      <td>1787.175450</td>\n",
       "      <td>123.497076</td>\n",
       "      <td>0.633668</td>\n",
       "    </tr>\n",
       "    <tr>\n",
       "      <th>1</th>\n",
       "      <td>CatBoost</td>\n",
       "      <td>1807.043272</td>\n",
       "      <td>53.374761</td>\n",
       "      <td>0.038361</td>\n",
       "    </tr>\n",
       "    <tr>\n",
       "      <th>2</th>\n",
       "      <td>Random Forest</td>\n",
       "      <td>1820.871378</td>\n",
       "      <td>45.474791</td>\n",
       "      <td>1.479409</td>\n",
       "    </tr>\n",
       "    <tr>\n",
       "      <th>3</th>\n",
       "      <td>LightGBM</td>\n",
       "      <td>1880.140663</td>\n",
       "      <td>4.202912</td>\n",
       "      <td>0.616316</td>\n",
       "    </tr>\n",
       "    <tr>\n",
       "      <th>4</th>\n",
       "      <td>Decision Tree</td>\n",
       "      <td>2044.170767</td>\n",
       "      <td>0.670115</td>\n",
       "      <td>0.012366</td>\n",
       "    </tr>\n",
       "    <tr>\n",
       "      <th>5</th>\n",
       "      <td>Linear Regression</td>\n",
       "      <td>3095.706384</td>\n",
       "      <td>0.154299</td>\n",
       "      <td>0.081986</td>\n",
       "    </tr>\n",
       "  </tbody>\n",
       "</table>\n",
       "</div>"
      ],
      "text/plain": [
       "              Modelo         RMSE  Tiempo de Entrenamiento (s)  \\\n",
       "0            XGBoost  1787.175450                   123.497076   \n",
       "1           CatBoost  1807.043272                    53.374761   \n",
       "2      Random Forest  1820.871378                    45.474791   \n",
       "3           LightGBM  1880.140663                     4.202912   \n",
       "4      Decision Tree  2044.170767                     0.670115   \n",
       "5  Linear Regression  3095.706384                     0.154299   \n",
       "\n",
       "   Tiempo de Predicción (s)  \n",
       "0                  0.633668  \n",
       "1                  0.038361  \n",
       "2                  1.479409  \n",
       "3                  0.616316  \n",
       "4                  0.012366  \n",
       "5                  0.081986  "
      ]
     },
     "execution_count": 97,
     "metadata": {},
     "output_type": "execute_result"
    }
   ],
   "source": [
    "# Creamos una tabla con los nombres de los modelos, RMSE, tiempo de entrenamiento y tiempo de predicción\n",
    "results = {\n",
    "    'Modelo': ['Linear Regression', 'Decision Tree', 'Random Forest', \n",
    "               'LightGBM', 'XGBoost', 'CatBoost'],\n",
    "    'RMSE': [rmse_lr, rmse_dt, rmse_rf, rmse_lgbm, rmse_xgb, rmse_cat],\n",
    "    'Tiempo de Entrenamiento (s)': [train_time_lr, train_time_dt, \n",
    "                                    train_time_rf, train_time_lgbm, \n",
    "                                    train_time_xgb, train_time_cat],\n",
    "    'Tiempo de Predicción (s)': [pred_time_lr, pred_time_dt, \n",
    "                                 pred_time_rf, pred_time_lgbm, \n",
    "                                 pred_time_xgb, pred_time_cat]}\n",
    "\n",
    "# Creamos el DataFrame\n",
    "df_results = pd.DataFrame(results)\n",
    "\n",
    "# Ordenamos por RMSE ascendente\n",
    "df_results = df_results.sort_values(by='RMSE').reset_index(drop=True)\n",
    "\n",
    "# Mostramos la tabla\n",
    "df_results\n"
   ]
  },
  {
   "cell_type": "code",
   "execution_count": 98,
   "metadata": {},
   "outputs": [
    {
     "data": {
      "image/png": "[encoded data removed]",
      "text/plain": [
       "<Figure size 2000x600 with 3 Axes>"
      ]
     },
     "metadata": {},
     "output_type": "display_data"
    }
   ],
   "source": [
    "# Realizamos un grafico para visualizar los resultados\n",
    "\n",
    "# Creamos una  figura con subplots para  que RMSE, Tiempo de Entrenamiento y Predicción se vean en una sola linea \n",
    "fig, axes = plt.subplots(1, 3, figsize=(20, 6))\n",
    "\n",
    "# Gráfico de RMSE\n",
    "sns.barplot(data=df_results, x='Modelo', y='RMSE', ax=axes[0], palette='Greens_d')\n",
    "axes[0].set_title('Comparación de RMSE')\n",
    "axes[0].set_ylabel('RMSE')\n",
    "axes[0].set_xlabel('Modelo')\n",
    "axes[0].tick_params(axis='x', rotation=45)\n",
    "\n",
    "# Gráfico de Tiempo de Entrenamiento\n",
    "sns.barplot(data=df_results, x='Modelo', y='Tiempo de Entrenamiento (s)', ax=axes[1], palette='Blues_d')\n",
    "axes[1].set_title('Tiempo de Entrenamiento')\n",
    "axes[1].set_ylabel('Segundos')\n",
    "axes[1].set_xlabel('Modelo')\n",
    "axes[1].tick_params(axis='x', rotation=45)\n",
    "\n",
    "# Gráfico de Tiempo de Predicción\n",
    "sns.barplot(data=df_results, x='Modelo', y='Tiempo de Predicción (s)', ax=axes[2], palette='Reds_d')\n",
    "axes[2].set_title('Tiempo de Predicción')\n",
    "axes[2].set_ylabel('Segundos')\n",
    "axes[2].set_xlabel('Modelo')\n",
    "axes[2].tick_params(axis='x', rotation=45)\n",
    "\n",
    "# Mostramos los gráficos\n",
    "plt.show()"
   ]
  },
  {
   "cell_type": "markdown",
   "metadata": {},
   "source": [
    "La regresión lineal es muy rápida tanto en el entrenamiento como en la predicción, pero la precisión es baja (RMSE alto). Esto era de esperarse, ya que la regresión lineal es un modelo simple y no captura relaciones complejas en los datos. este nos sirve como prueba de cordura.\n",
    "\n",
    "El árbol de decisión mejora notablemente respecto a la regresión lineal. Sin embargo, su rendimiento aún es inferior al de modelos más avanzados como los basados en potenciación del gradiente.\n",
    "\n",
    "El bosque aleatorio reduce el RMSE en comparación con el árbol de decisión, lo que indica que la agregación de varios árboles mejora la precisión. Sin embargo, su tiempo de entrenamiento y predicción es considerablemente mayor.\n",
    "\n",
    "LightGBM logra una buena precisión con tiempos de entrenamiento rápidos en comparación con el bosque aleatorio y el ajuste de hiperparámetros mejora ligeramente el rendimiento.\n",
    "\n",
    "XGBoost nos da una buena precisión, pero su tiempo de entrenamiento es significativamente más largo. el ajuste de los hiperparámetros mejora el RMSE, pero incrementa bastante el tiempo de entrenamiento.\n",
    "\n",
    "CatBoost su tiempo de entrenamiento y predicción es competitivo, pero al ajustar los hiperparámetros reduce el RMSE a 1807.04, haciendo que incremente considerablemente el tiempo de entrenamiento."
   ]
  },
  {
   "cell_type": "markdown",
   "metadata": {},
   "source": [
    "## Conclusiones"
   ]
  },
  {
   "cell_type": "markdown",
   "metadata": {},
   "source": [
    "- Fue fundamental llevar a cabo una preparación exhaustiva de los datos para garantizar un entrenamiento efectivo de los modelos. Se eliminaron columnas irrelevantes, se eliminaron valores duplicados y se abordaron los valores ausentes según su importancia. Todo esto se realizó para evitar complejidades innecesarias en el modelo y prevenir que se viera afectado por datos irrelevantes.\n",
    "\n",
    "\n",
    "- De acuerdo a los resultados obtenidos, segun la velocidad de entrenamiento y predicción, CatBoost y LightGBM son significativamente más rápidos que XGBoost, especialmente en términos de predicción. XGBoost ofrece excelente precisión, pero a costa de tiempos de entrenamiento más largos.\n",
    "\n",
    "\n",
    "- segun la calidad de las predicciones, XGBoost con hiperparámetros ajustados proporciona el mejor RMSE: 1787.18 (pero ofrece tiempos mas largos de entrenamiento). Bosque aleatorio y CatBoost también muestran un excelente desempeño, con RMSE cercanos.\n",
    "\n",
    "\n",
    "- Teniendo en cuenta los intereses de Rusty Bargain que busca un equilibrio entre calidad de prediccion, velocidad de prediccion y tiempo de entrenamiento; Los modelos LightGBM y CatBoost ofrecen un equilibrio razonable entre calidad, velocidad y tiempo de entrenamiento. Sin embargo, se recomendaria a la empresa el uso de LightGBM ya que presenta un balance general con tiempos de entrenamiento y velocidad más bajos y precisión competitiva. esto garantizaria que la app funcione rápidamente y al mismo tiempo mantenga una buena precisión en la estimación del valor de mercado."
   ]
  },
  {
   "cell_type": "code",
   "execution_count": null,
   "metadata": {},
   "outputs": [],
   "source": []
  }
 ],
 "metadata": {
  "ExecuteTimeLog": [
   {
    "duration": 920,
    "start_time": "2024-10-28T20:45:40.702Z"
   },
   {
    "duration": 458,
    "start_time": "2024-10-28T20:45:43.403Z"
   },
   {
    "duration": 96,
    "start_time": "2024-10-28T20:50:03.062Z"
   },
   {
    "duration": 129,
    "start_time": "2024-10-28T20:59:58.266Z"
   },
   {
    "duration": 1398,
    "start_time": "2024-10-28T21:41:07.751Z"
   },
   {
    "duration": 100,
    "start_time": "2024-10-28T21:41:28.224Z"
   },
   {
    "duration": 82,
    "start_time": "2024-10-28T21:41:43.690Z"
   },
   {
    "duration": 74,
    "start_time": "2024-10-28T21:42:17.888Z"
   },
   {
    "duration": 134,
    "start_time": "2024-10-28T21:51:40.887Z"
   },
   {
    "duration": 345,
    "start_time": "2024-10-28T21:53:29.223Z"
   },
   {
    "duration": 4,
    "start_time": "2024-10-28T23:13:56.915Z"
   },
   {
    "duration": 4,
    "start_time": "2024-10-28T23:29:41.094Z"
   },
   {
    "duration": 254,
    "start_time": "2024-10-28T23:35:33.874Z"
   },
   {
    "duration": 311,
    "start_time": "2024-10-28T23:37:26.469Z"
   },
   {
    "duration": 73,
    "start_time": "2024-10-28T23:41:43.202Z"
   },
   {
    "duration": 53,
    "start_time": "2024-10-29T00:57:30.633Z"
   },
   {
    "duration": 72,
    "start_time": "2024-10-29T02:15:22.444Z"
   },
   {
    "duration": 971,
    "start_time": "2024-10-29T20:06:21.839Z"
   },
   {
    "duration": 463,
    "start_time": "2024-10-29T20:06:22.813Z"
   },
   {
    "duration": 104,
    "start_time": "2024-10-29T20:06:23.278Z"
   },
   {
    "duration": 126,
    "start_time": "2024-10-29T20:06:23.384Z"
   },
   {
    "duration": 1381,
    "start_time": "2024-10-29T20:06:23.513Z"
   },
   {
    "duration": 64,
    "start_time": "2024-10-29T20:06:24.896Z"
   },
   {
    "duration": 331,
    "start_time": "2024-10-29T20:06:24.962Z"
   },
   {
    "duration": 336,
    "start_time": "2024-10-29T20:06:25.295Z"
   },
   {
    "duration": 59,
    "start_time": "2024-10-29T20:06:25.633Z"
   },
   {
    "duration": 75,
    "start_time": "2024-10-29T20:06:25.694Z"
   },
   {
    "duration": 62,
    "start_time": "2024-10-29T20:07:16.257Z"
   },
   {
    "duration": 60,
    "start_time": "2024-10-29T20:07:26.422Z"
   },
   {
    "duration": 13,
    "start_time": "2024-10-29T20:17:08.617Z"
   },
   {
    "duration": 42,
    "start_time": "2024-10-29T20:26:18.140Z"
   },
   {
    "duration": 4,
    "start_time": "2024-10-29T20:26:35.601Z"
   },
   {
    "duration": 377,
    "start_time": "2024-10-29T20:26:35.607Z"
   },
   {
    "duration": 103,
    "start_time": "2024-10-29T20:26:35.986Z"
   },
   {
    "duration": 124,
    "start_time": "2024-10-29T20:26:36.091Z"
   },
   {
    "duration": 1407,
    "start_time": "2024-10-29T20:26:36.217Z"
   },
   {
    "duration": 65,
    "start_time": "2024-10-29T20:26:37.626Z"
   },
   {
    "duration": 310,
    "start_time": "2024-10-29T20:26:37.694Z"
   },
   {
    "duration": 308,
    "start_time": "2024-10-29T20:26:38.006Z"
   },
   {
    "duration": 72,
    "start_time": "2024-10-29T20:26:38.317Z"
   },
   {
    "duration": 78,
    "start_time": "2024-10-29T20:26:38.392Z"
   },
   {
    "duration": 40,
    "start_time": "2024-10-29T20:26:38.472Z"
   },
   {
    "duration": 17,
    "start_time": "2024-10-29T20:26:38.514Z"
   },
   {
    "duration": 21,
    "start_time": "2024-10-29T20:33:16.380Z"
   },
   {
    "duration": 4,
    "start_time": "2024-10-29T20:39:11.077Z"
   },
   {
    "duration": 379,
    "start_time": "2024-10-29T20:39:11.085Z"
   },
   {
    "duration": 101,
    "start_time": "2024-10-29T20:39:11.466Z"
   },
   {
    "duration": 134,
    "start_time": "2024-10-29T20:39:11.569Z"
   },
   {
    "duration": 36,
    "start_time": "2024-10-29T20:39:11.705Z"
   },
   {
    "duration": 45,
    "start_time": "2024-10-29T20:39:11.744Z"
   },
   {
    "duration": 257,
    "start_time": "2024-10-29T20:39:11.791Z"
   },
   {
    "duration": 240,
    "start_time": "2024-10-29T20:39:12.050Z"
   },
   {
    "duration": 58,
    "start_time": "2024-10-29T20:39:12.292Z"
   },
   {
    "duration": 55,
    "start_time": "2024-10-29T20:39:12.352Z"
   },
   {
    "duration": 49,
    "start_time": "2024-10-29T20:39:12.409Z"
   },
   {
    "duration": 20,
    "start_time": "2024-10-29T20:39:12.460Z"
   },
   {
    "duration": 915,
    "start_time": "2024-10-29T20:40:09.317Z"
   },
   {
    "duration": 4,
    "start_time": "2024-10-29T20:40:25.145Z"
   },
   {
    "duration": 387,
    "start_time": "2024-10-29T20:40:25.154Z"
   },
   {
    "duration": 98,
    "start_time": "2024-10-29T20:40:25.543Z"
   },
   {
    "duration": 124,
    "start_time": "2024-10-29T20:40:25.643Z"
   },
   {
    "duration": 97,
    "start_time": "2024-10-29T20:40:25.769Z"
   },
   {
    "duration": 41,
    "start_time": "2024-10-29T20:40:25.868Z"
   },
   {
    "duration": 252,
    "start_time": "2024-10-29T20:40:25.911Z"
   },
   {
    "duration": 245,
    "start_time": "2024-10-29T20:40:26.165Z"
   },
   {
    "duration": 63,
    "start_time": "2024-10-29T20:40:26.411Z"
   },
   {
    "duration": 60,
    "start_time": "2024-10-29T20:40:26.476Z"
   },
   {
    "duration": 38,
    "start_time": "2024-10-29T20:40:26.538Z"
   },
   {
    "duration": 21,
    "start_time": "2024-10-29T20:40:26.578Z"
   },
   {
    "duration": 53,
    "start_time": "2024-10-29T20:49:00.184Z"
   },
   {
    "duration": 20,
    "start_time": "2024-10-29T20:56:32.937Z"
   },
   {
    "duration": 22,
    "start_time": "2024-10-29T20:58:44.016Z"
   },
   {
    "duration": 12,
    "start_time": "2024-10-29T21:00:34.153Z"
   },
   {
    "duration": 99,
    "start_time": "2024-10-29T21:01:19.080Z"
   },
   {
    "duration": 39,
    "start_time": "2024-10-29T21:02:54.803Z"
   },
   {
    "duration": 10,
    "start_time": "2024-10-29T21:06:26.775Z"
   },
   {
    "duration": 14,
    "start_time": "2024-10-29T21:07:01.907Z"
   },
   {
    "duration": 10,
    "start_time": "2024-10-29T21:08:09.859Z"
   },
   {
    "duration": 7,
    "start_time": "2024-10-29T21:08:50.960Z"
   },
   {
    "duration": 7,
    "start_time": "2024-10-29T21:09:07.194Z"
   },
   {
    "duration": 10,
    "start_time": "2024-10-29T21:21:14.556Z"
   },
   {
    "duration": 11,
    "start_time": "2024-10-29T21:26:00.452Z"
   },
   {
    "duration": 5,
    "start_time": "2024-10-29T21:26:43.253Z"
   },
   {
    "duration": 4,
    "start_time": "2024-10-29T21:27:00.836Z"
   },
   {
    "duration": 36,
    "start_time": "2024-10-29T21:28:52.785Z"
   },
   {
    "duration": 6,
    "start_time": "2024-10-29T21:30:25.446Z"
   },
   {
    "duration": 7,
    "start_time": "2024-10-29T21:32:56.158Z"
   },
   {
    "duration": 4,
    "start_time": "2024-10-29T21:33:24.277Z"
   },
   {
    "duration": 8,
    "start_time": "2024-10-29T21:33:42.660Z"
   },
   {
    "duration": 7,
    "start_time": "2024-10-29T21:36:26.222Z"
   },
   {
    "duration": 4,
    "start_time": "2024-10-29T21:38:15.899Z"
   },
   {
    "duration": 15,
    "start_time": "2024-10-29T21:38:35.839Z"
   },
   {
    "duration": 19,
    "start_time": "2024-10-29T21:39:16.836Z"
   },
   {
    "duration": 28,
    "start_time": "2024-10-29T21:42:55.445Z"
   },
   {
    "duration": 19,
    "start_time": "2024-10-29T21:43:25.324Z"
   },
   {
    "duration": 18,
    "start_time": "2024-10-29T21:45:16.273Z"
   },
   {
    "duration": 17,
    "start_time": "2024-10-29T21:45:36.013Z"
   },
   {
    "duration": 21,
    "start_time": "2024-10-29T21:46:11.900Z"
   },
   {
    "duration": 18,
    "start_time": "2024-10-29T21:46:25.181Z"
   },
   {
    "duration": 24,
    "start_time": "2024-10-29T21:48:08.941Z"
   },
   {
    "duration": 24,
    "start_time": "2024-10-29T21:48:16.600Z"
   },
   {
    "duration": 17,
    "start_time": "2024-10-29T21:48:31.113Z"
   },
   {
    "duration": 4,
    "start_time": "2024-10-29T21:49:24.419Z"
   },
   {
    "duration": 390,
    "start_time": "2024-10-29T21:49:24.425Z"
   },
   {
    "duration": 103,
    "start_time": "2024-10-29T21:49:24.817Z"
   },
   {
    "duration": 126,
    "start_time": "2024-10-29T21:49:24.921Z"
   },
   {
    "duration": 95,
    "start_time": "2024-10-29T21:49:25.049Z"
   },
   {
    "duration": 43,
    "start_time": "2024-10-29T21:49:25.146Z"
   },
   {
    "duration": 244,
    "start_time": "2024-10-29T21:49:25.191Z"
   },
   {
    "duration": 245,
    "start_time": "2024-10-29T21:49:25.436Z"
   },
   {
    "duration": 62,
    "start_time": "2024-10-29T21:49:25.683Z"
   },
   {
    "duration": 56,
    "start_time": "2024-10-29T21:49:25.747Z"
   },
   {
    "duration": 50,
    "start_time": "2024-10-29T21:49:25.806Z"
   },
   {
    "duration": 22,
    "start_time": "2024-10-29T21:49:25.857Z"
   },
   {
    "duration": 21,
    "start_time": "2024-10-29T21:49:25.881Z"
   },
   {
    "duration": 32,
    "start_time": "2024-10-29T21:49:25.906Z"
   },
   {
    "duration": 107,
    "start_time": "2024-10-29T21:49:25.939Z"
   },
   {
    "duration": 36,
    "start_time": "2024-10-29T21:49:26.048Z"
   },
   {
    "duration": 18,
    "start_time": "2024-10-29T21:49:26.085Z"
   },
   {
    "duration": 34,
    "start_time": "2024-10-29T21:49:26.105Z"
   },
   {
    "duration": 3,
    "start_time": "2024-10-29T21:49:36.815Z"
   },
   {
    "duration": 166,
    "start_time": "2024-10-29T22:45:02.986Z"
   },
   {
    "duration": 162,
    "start_time": "2024-10-29T22:45:34.186Z"
   },
   {
    "duration": 196,
    "start_time": "2024-10-29T22:47:37.336Z"
   },
   {
    "duration": 169,
    "start_time": "2024-10-29T22:48:18.525Z"
   },
   {
    "duration": 170,
    "start_time": "2024-10-29T23:28:18.209Z"
   },
   {
    "duration": 6094,
    "start_time": "2024-10-29T23:28:46.290Z"
   },
   {
    "duration": 7,
    "start_time": "2024-10-29T23:29:05.258Z"
   },
   {
    "duration": 157,
    "start_time": "2024-10-29T23:29:13.689Z"
   },
   {
    "duration": 19,
    "start_time": "2024-10-29T23:30:38.902Z"
   },
   {
    "duration": 20,
    "start_time": "2024-10-29T23:33:23.914Z"
   },
   {
    "duration": 5,
    "start_time": "2024-10-29T23:38:38.850Z"
   },
   {
    "duration": 20,
    "start_time": "2024-10-29T23:38:44.442Z"
   },
   {
    "duration": 21,
    "start_time": "2024-10-29T23:38:48.933Z"
   },
   {
    "duration": 19,
    "start_time": "2024-10-29T23:39:31.121Z"
   },
   {
    "duration": 20,
    "start_time": "2024-10-29T23:39:43.627Z"
   },
   {
    "duration": 126,
    "start_time": "2024-10-29T23:46:07.916Z"
   },
   {
    "duration": 3,
    "start_time": "2024-10-29T23:50:18.968Z"
   },
   {
    "duration": 10,
    "start_time": "2024-10-29T23:50:44.341Z"
   },
   {
    "duration": 11,
    "start_time": "2024-10-29T23:50:56.272Z"
   },
   {
    "duration": 10,
    "start_time": "2024-10-29T23:51:23.500Z"
   },
   {
    "duration": 159,
    "start_time": "2024-10-29T23:51:58.777Z"
   },
   {
    "duration": 177,
    "start_time": "2024-10-29T23:55:11.973Z"
   },
   {
    "duration": 6,
    "start_time": "2024-10-29T23:55:44.821Z"
   },
   {
    "duration": 362,
    "start_time": "2024-10-29T23:56:01.486Z"
   },
   {
    "duration": 178,
    "start_time": "2024-10-29T23:57:09.710Z"
   },
   {
    "duration": 10,
    "start_time": "2024-10-29T23:58:30.664Z"
   },
   {
    "duration": 45,
    "start_time": "2024-10-29T23:58:36.329Z"
   },
   {
    "duration": 88,
    "start_time": "2024-10-30T00:47:18.414Z"
   },
   {
    "duration": 38,
    "start_time": "2024-10-30T01:08:04.616Z"
   },
   {
    "duration": 4,
    "start_time": "2024-10-30T01:10:29.835Z"
   },
   {
    "duration": 128,
    "start_time": "2024-10-30T01:22:12.697Z"
   },
   {
    "duration": 143,
    "start_time": "2024-10-30T01:24:08.917Z"
   },
   {
    "duration": 59,
    "start_time": "2024-10-30T01:34:36.294Z"
   },
   {
    "duration": 871,
    "start_time": "2024-10-30T15:46:10.273Z"
   },
   {
    "duration": 463,
    "start_time": "2024-10-30T15:46:11.147Z"
   },
   {
    "duration": 99,
    "start_time": "2024-10-30T15:46:11.612Z"
   },
   {
    "duration": 127,
    "start_time": "2024-10-30T15:46:11.713Z"
   },
   {
    "duration": 94,
    "start_time": "2024-10-30T15:46:11.843Z"
   },
   {
    "duration": 51,
    "start_time": "2024-10-30T15:46:11.938Z"
   },
   {
    "duration": 250,
    "start_time": "2024-10-30T15:46:11.990Z"
   },
   {
    "duration": 244,
    "start_time": "2024-10-30T15:46:12.242Z"
   },
   {
    "duration": 53,
    "start_time": "2024-10-30T15:46:12.488Z"
   },
   {
    "duration": 73,
    "start_time": "2024-10-30T15:46:12.543Z"
   },
   {
    "duration": 36,
    "start_time": "2024-10-30T15:46:12.618Z"
   },
   {
    "duration": 33,
    "start_time": "2024-10-30T15:46:12.656Z"
   },
   {
    "duration": 21,
    "start_time": "2024-10-30T15:46:12.690Z"
   },
   {
    "duration": 11,
    "start_time": "2024-10-30T15:46:12.715Z"
   },
   {
    "duration": 111,
    "start_time": "2024-10-30T15:46:12.728Z"
   },
   {
    "duration": 16,
    "start_time": "2024-10-30T15:46:12.841Z"
   },
   {
    "duration": 34,
    "start_time": "2024-10-30T15:46:12.859Z"
   },
   {
    "duration": 176,
    "start_time": "2024-10-30T15:46:12.895Z"
   },
   {
    "duration": 149,
    "start_time": "2024-10-30T15:46:13.073Z"
   },
   {
    "duration": 173,
    "start_time": "2024-10-30T15:46:13.223Z"
   },
   {
    "duration": 193,
    "start_time": "2024-10-30T15:46:13.398Z"
   },
   {
    "duration": 14,
    "start_time": "2024-10-30T15:46:13.594Z"
   },
   {
    "duration": 45,
    "start_time": "2024-10-30T15:46:13.610Z"
   },
   {
    "duration": 62,
    "start_time": "2024-10-30T15:46:13.656Z"
   },
   {
    "duration": 107,
    "start_time": "2024-10-30T15:46:13.720Z"
   },
   {
    "duration": 132,
    "start_time": "2024-10-30T15:46:13.828Z"
   },
   {
    "duration": 64,
    "start_time": "2024-10-30T15:46:13.962Z"
   },
   {
    "duration": 318,
    "start_time": "2024-10-30T17:08:42.244Z"
   },
   {
    "duration": 4,
    "start_time": "2024-10-30T17:19:02.366Z"
   },
   {
    "duration": 5,
    "start_time": "2024-10-30T17:21:22.160Z"
   },
   {
    "duration": 76667,
    "start_time": "2024-10-30T17:29:45.511Z"
   },
   {
    "duration": 934,
    "start_time": "2024-10-30T18:32:24.712Z"
   },
   {
    "duration": 454,
    "start_time": "2024-10-30T18:32:25.649Z"
   },
   {
    "duration": 153,
    "start_time": "2024-10-30T18:32:26.105Z"
   },
   {
    "duration": 146,
    "start_time": "2024-10-30T18:32:26.260Z"
   },
   {
    "duration": 101,
    "start_time": "2024-10-30T18:32:26.409Z"
   },
   {
    "duration": 66,
    "start_time": "2024-10-30T18:32:26.512Z"
   },
   {
    "duration": 309,
    "start_time": "2024-10-30T18:32:26.580Z"
   },
   {
    "duration": 252,
    "start_time": "2024-10-30T18:32:26.891Z"
   },
   {
    "duration": 68,
    "start_time": "2024-10-30T18:32:27.145Z"
   },
   {
    "duration": 71,
    "start_time": "2024-10-30T18:32:27.215Z"
   },
   {
    "duration": 40,
    "start_time": "2024-10-30T18:32:27.287Z"
   },
   {
    "duration": 44,
    "start_time": "2024-10-30T18:32:27.328Z"
   },
   {
    "duration": 23,
    "start_time": "2024-10-30T18:32:27.373Z"
   },
   {
    "duration": 12,
    "start_time": "2024-10-30T18:32:27.399Z"
   },
   {
    "duration": 115,
    "start_time": "2024-10-30T18:32:27.412Z"
   },
   {
    "duration": 19,
    "start_time": "2024-10-30T18:32:27.529Z"
   },
   {
    "duration": 34,
    "start_time": "2024-10-30T18:32:27.550Z"
   },
   {
    "duration": 217,
    "start_time": "2024-10-30T18:32:27.588Z"
   },
   {
    "duration": 133,
    "start_time": "2024-10-30T18:32:27.808Z"
   },
   {
    "duration": 237,
    "start_time": "2024-10-30T18:32:27.943Z"
   },
   {
    "duration": 189,
    "start_time": "2024-10-30T18:32:28.183Z"
   },
   {
    "duration": 10,
    "start_time": "2024-10-30T18:32:28.373Z"
   },
   {
    "duration": 59,
    "start_time": "2024-10-30T18:32:28.386Z"
   },
   {
    "duration": 58,
    "start_time": "2024-10-30T18:32:28.448Z"
   },
   {
    "duration": 142,
    "start_time": "2024-10-30T18:32:28.508Z"
   },
   {
    "duration": 149,
    "start_time": "2024-10-30T18:32:28.654Z"
   },
   {
    "duration": 118,
    "start_time": "2024-10-30T18:32:28.805Z"
   },
   {
    "duration": 8,
    "start_time": "2024-10-30T18:32:28.925Z"
   },
   {
    "duration": 4,
    "start_time": "2024-10-30T18:53:35.675Z"
   },
   {
    "duration": 5,
    "start_time": "2024-10-30T19:04:57.781Z"
   },
   {
    "duration": 310,
    "start_time": "2024-10-30T19:10:40.960Z"
   },
   {
    "duration": 258,
    "start_time": "2024-10-30T19:22:25.127Z"
   },
   {
    "duration": 460,
    "start_time": "2024-10-30T19:23:02.482Z"
   },
   {
    "duration": 264,
    "start_time": "2024-10-30T19:25:17.018Z"
   },
   {
    "duration": 410,
    "start_time": "2024-10-30T19:26:57.278Z"
   },
   {
    "duration": 372,
    "start_time": "2024-10-30T19:27:08.592Z"
   },
   {
    "duration": 469,
    "start_time": "2024-10-30T19:27:15.446Z"
   },
   {
    "duration": 515,
    "start_time": "2024-10-30T19:27:29.849Z"
   },
   {
    "duration": 550,
    "start_time": "2024-10-30T19:27:36.297Z"
   },
   {
    "duration": 595,
    "start_time": "2024-10-30T19:27:41.282Z"
   },
   {
    "duration": 520,
    "start_time": "2024-10-30T19:27:55.444Z"
   },
   {
    "duration": 577,
    "start_time": "2024-10-30T19:28:02.108Z"
   },
   {
    "duration": 607,
    "start_time": "2024-10-30T19:28:08.782Z"
   },
   {
    "duration": 697,
    "start_time": "2024-10-30T19:28:15.180Z"
   },
   {
    "duration": 556,
    "start_time": "2024-10-30T19:28:24.601Z"
   },
   {
    "duration": 28880,
    "start_time": "2024-10-30T19:32:43.113Z"
   },
   {
    "duration": 16528,
    "start_time": "2024-10-30T19:34:07.576Z"
   },
   {
    "duration": 24098,
    "start_time": "2024-10-30T19:34:39.307Z"
   },
   {
    "duration": 30664,
    "start_time": "2024-10-30T19:35:17.074Z"
   },
   {
    "duration": 34666,
    "start_time": "2024-10-30T19:36:15.905Z"
   },
   {
    "duration": 37989,
    "start_time": "2024-10-30T19:37:03.895Z"
   },
   {
    "duration": 41102,
    "start_time": "2024-10-30T19:37:57.501Z"
   },
   {
    "duration": 44921,
    "start_time": "2024-10-30T19:38:52.415Z"
   },
   {
    "duration": 48821,
    "start_time": "2024-10-30T19:39:56.931Z"
   },
   {
    "duration": 22548,
    "start_time": "2024-10-30T19:40:58.571Z"
   },
   {
    "duration": 31856,
    "start_time": "2024-10-30T19:41:34.826Z"
   },
   {
    "duration": 45253,
    "start_time": "2024-10-30T19:42:25.067Z"
   },
   {
    "duration": 2601,
    "start_time": "2024-10-30T19:50:49.370Z"
   },
   {
    "duration": 2734,
    "start_time": "2024-10-30T19:54:14.340Z"
   },
   {
    "duration": 2541,
    "start_time": "2024-10-30T19:54:24.245Z"
   },
   {
    "duration": 2494,
    "start_time": "2024-10-30T19:54:32.687Z"
   },
   {
    "duration": 2775,
    "start_time": "2024-10-30T19:54:44.597Z"
   },
   {
    "duration": 5691,
    "start_time": "2024-10-30T19:54:53.679Z"
   },
   {
    "duration": 3550,
    "start_time": "2024-10-30T19:55:10.432Z"
   },
   {
    "duration": 4193,
    "start_time": "2024-10-30T19:57:03.388Z"
   },
   {
    "duration": 2893,
    "start_time": "2024-10-30T19:57:21.177Z"
   },
   {
    "duration": 5335,
    "start_time": "2024-10-30T19:58:14.661Z"
   },
   {
    "duration": 2887,
    "start_time": "2024-10-30T19:58:30.096Z"
   },
   {
    "duration": 3976,
    "start_time": "2024-10-30T19:59:37.007Z"
   },
   {
    "duration": 2631,
    "start_time": "2024-10-30T20:05:44.669Z"
   },
   {
    "duration": 4310,
    "start_time": "2024-10-30T20:06:35.222Z"
   },
   {
    "duration": 593,
    "start_time": "2024-10-30T20:06:48.195Z"
   },
   {
    "duration": 52325,
    "start_time": "2024-10-30T20:07:08.121Z"
   },
   {
    "duration": 47437,
    "start_time": "2024-10-30T20:15:19.772Z"
   },
   {
    "duration": 905,
    "start_time": "2024-10-30T20:56:00.596Z"
   },
   {
    "duration": 469,
    "start_time": "2024-10-30T20:56:01.504Z"
   },
   {
    "duration": 111,
    "start_time": "2024-10-30T20:56:01.974Z"
   },
   {
    "duration": 125,
    "start_time": "2024-10-30T20:56:02.088Z"
   },
   {
    "duration": 97,
    "start_time": "2024-10-30T20:56:02.214Z"
   },
   {
    "duration": 44,
    "start_time": "2024-10-30T20:56:02.313Z"
   },
   {
    "duration": 284,
    "start_time": "2024-10-30T20:56:02.359Z"
   },
   {
    "duration": 259,
    "start_time": "2024-10-30T20:56:02.644Z"
   },
   {
    "duration": 54,
    "start_time": "2024-10-30T20:56:02.911Z"
   },
   {
    "duration": 67,
    "start_time": "2024-10-30T20:56:02.968Z"
   },
   {
    "duration": 37,
    "start_time": "2024-10-30T20:56:03.036Z"
   },
   {
    "duration": 36,
    "start_time": "2024-10-30T20:56:03.075Z"
   },
   {
    "duration": 21,
    "start_time": "2024-10-30T20:56:03.113Z"
   },
   {
    "duration": 12,
    "start_time": "2024-10-30T20:56:03.135Z"
   },
   {
    "duration": 112,
    "start_time": "2024-10-30T20:56:03.148Z"
   },
   {
    "duration": 17,
    "start_time": "2024-10-30T20:56:03.262Z"
   },
   {
    "duration": 32,
    "start_time": "2024-10-30T20:56:03.280Z"
   },
   {
    "duration": 185,
    "start_time": "2024-10-30T20:56:03.314Z"
   },
   {
    "duration": 117,
    "start_time": "2024-10-30T20:56:03.502Z"
   },
   {
    "duration": 166,
    "start_time": "2024-10-30T20:56:03.621Z"
   },
   {
    "duration": 186,
    "start_time": "2024-10-30T20:56:03.789Z"
   },
   {
    "duration": 9,
    "start_time": "2024-10-30T20:56:03.977Z"
   },
   {
    "duration": 58,
    "start_time": "2024-10-30T20:56:03.988Z"
   },
   {
    "duration": 39,
    "start_time": "2024-10-30T20:56:04.048Z"
   },
   {
    "duration": 107,
    "start_time": "2024-10-30T20:56:04.089Z"
   },
   {
    "duration": 131,
    "start_time": "2024-10-30T20:56:04.199Z"
   },
   {
    "duration": 62,
    "start_time": "2024-10-30T20:56:04.331Z"
   },
   {
    "duration": 19,
    "start_time": "2024-10-30T20:56:04.396Z"
   },
   {
    "duration": 219,
    "start_time": "2024-10-30T20:56:04.417Z"
   },
   {
    "duration": 689,
    "start_time": "2024-10-30T20:56:04.638Z"
   },
   {
    "duration": 46834,
    "start_time": "2024-10-30T20:56:05.329Z"
   },
   {
    "duration": 2674,
    "start_time": "2024-10-30T20:56:52.165Z"
   },
   {
    "duration": 3917,
    "start_time": "2024-10-30T20:56:54.911Z"
   },
   {
    "duration": 46799,
    "start_time": "2024-10-30T20:56:58.829Z"
   },
   {
    "duration": 47509,
    "start_time": "2024-10-30T20:57:45.629Z"
   },
   {
    "duration": 2729,
    "start_time": "2024-10-30T20:58:33.140Z"
   },
   {
    "duration": 51788,
    "start_time": "2024-10-30T20:58:35.871Z"
   },
   {
    "duration": 7,
    "start_time": "2024-10-30T21:04:24.548Z"
   },
   {
    "duration": 51135,
    "start_time": "2024-10-30T21:05:29.292Z"
   },
   {
    "duration": 2551,
    "start_time": "2024-10-30T21:07:28.929Z"
   },
   {
    "duration": 55377,
    "start_time": "2024-10-30T21:07:36.899Z"
   },
   {
    "duration": 124929,
    "start_time": "2024-10-30T21:11:47.196Z"
   },
   {
    "duration": 7,
    "start_time": "2024-10-30T21:35:22.167Z"
   },
   {
    "duration": 9,
    "start_time": "2024-10-30T21:35:36.254Z"
   },
   {
    "duration": 9,
    "start_time": "2024-10-30T21:38:42.223Z"
   },
   {
    "duration": 9,
    "start_time": "2024-10-30T21:39:43.335Z"
   },
   {
    "duration": 9,
    "start_time": "2024-10-30T21:40:38.858Z"
   },
   {
    "duration": 10,
    "start_time": "2024-10-30T21:40:48.724Z"
   },
   {
    "duration": 9,
    "start_time": "2024-10-30T21:50:02.362Z"
   },
   {
    "duration": 2264,
    "start_time": "2024-10-30T22:28:03.385Z"
   },
   {
    "duration": 491,
    "start_time": "2024-10-30T22:28:13.870Z"
   },
   {
    "duration": 603,
    "start_time": "2024-10-30T22:29:13.667Z"
   },
   {
    "duration": 614,
    "start_time": "2024-10-30T22:32:19.082Z"
   },
   {
    "duration": 598,
    "start_time": "2024-10-30T22:34:41.420Z"
   },
   {
    "duration": 496,
    "start_time": "2024-10-30T22:37:21.823Z"
   },
   {
    "duration": 462,
    "start_time": "2024-10-30T22:45:27.714Z"
   },
   {
    "duration": 476,
    "start_time": "2024-10-30T22:50:30.694Z"
   },
   {
    "duration": 365,
    "start_time": "2024-10-30T22:51:46.748Z"
   },
   {
    "duration": 4,
    "start_time": "2024-10-30T22:53:02.068Z"
   },
   {
    "duration": 363,
    "start_time": "2024-10-30T22:53:50.600Z"
   },
   {
    "duration": 3,
    "start_time": "2024-10-30T23:46:01.435Z"
   },
   {
    "duration": 378,
    "start_time": "2024-10-30T23:46:01.442Z"
   },
   {
    "duration": 100,
    "start_time": "2024-10-30T23:46:01.823Z"
   },
   {
    "duration": 112,
    "start_time": "2024-10-30T23:46:01.925Z"
   },
   {
    "duration": 88,
    "start_time": "2024-10-30T23:46:02.040Z"
   },
   {
    "duration": 41,
    "start_time": "2024-10-30T23:46:02.130Z"
   },
   {
    "duration": 249,
    "start_time": "2024-10-30T23:46:02.173Z"
   },
   {
    "duration": 226,
    "start_time": "2024-10-30T23:46:02.424Z"
   },
   {
    "duration": 62,
    "start_time": "2024-10-30T23:46:02.652Z"
   },
   {
    "duration": 56,
    "start_time": "2024-10-30T23:46:02.716Z"
   },
   {
    "duration": 53,
    "start_time": "2024-10-30T23:46:02.776Z"
   },
   {
    "duration": 21,
    "start_time": "2024-10-30T23:46:02.831Z"
   },
   {
    "duration": 21,
    "start_time": "2024-10-30T23:46:02.853Z"
   },
   {
    "duration": 12,
    "start_time": "2024-10-30T23:46:02.876Z"
   },
   {
    "duration": 118,
    "start_time": "2024-10-30T23:46:02.889Z"
   },
   {
    "duration": 18,
    "start_time": "2024-10-30T23:46:03.012Z"
   },
   {
    "duration": 18,
    "start_time": "2024-10-30T23:46:03.032Z"
   },
   {
    "duration": 182,
    "start_time": "2024-10-30T23:46:03.051Z"
   },
   {
    "duration": 115,
    "start_time": "2024-10-30T23:46:03.235Z"
   },
   {
    "duration": 168,
    "start_time": "2024-10-30T23:46:03.352Z"
   },
   {
    "duration": 185,
    "start_time": "2024-10-30T23:46:03.522Z"
   },
   {
    "duration": 10,
    "start_time": "2024-10-30T23:46:03.712Z"
   },
   {
    "duration": 45,
    "start_time": "2024-10-30T23:46:03.724Z"
   },
   {
    "duration": 102,
    "start_time": "2024-10-30T23:46:03.771Z"
   },
   {
    "duration": 125,
    "start_time": "2024-10-30T23:46:03.874Z"
   },
   {
    "duration": 69,
    "start_time": "2024-10-30T23:46:04.002Z"
   },
   {
    "duration": 6,
    "start_time": "2024-10-30T23:46:04.072Z"
   },
   {
    "duration": 243,
    "start_time": "2024-10-30T23:46:04.079Z"
   },
   {
    "duration": 686,
    "start_time": "2024-10-30T23:46:04.329Z"
   },
   {
    "duration": 46959,
    "start_time": "2024-10-30T23:46:05.017Z"
   },
   {
    "duration": 2733,
    "start_time": "2024-10-30T23:46:51.979Z"
   },
   {
    "duration": 4825,
    "start_time": "2024-10-30T23:46:54.714Z"
   },
   {
    "duration": 47199,
    "start_time": "2024-10-30T23:46:59.613Z"
   },
   {
    "duration": 124198,
    "start_time": "2024-10-30T23:47:46.814Z"
   },
   {
    "duration": 2542,
    "start_time": "2024-10-30T23:49:51.014Z"
   },
   {
    "duration": 53418,
    "start_time": "2024-10-30T23:49:53.558Z"
   },
   {
    "duration": 11,
    "start_time": "2024-10-30T23:50:46.978Z"
   },
   {
    "duration": 486,
    "start_time": "2024-10-30T23:50:46.990Z"
   }
  ],
  "kernelspec": {
   "display_name": "Python 3 (ipykernel)",
   "language": "python",
   "name": "python3"
  },
  "language_info": {
   "codemirror_mode": {
    "name": "ipython",
    "version": 3
   },
   "file_extension": ".py",
   "mimetype": "text/x-python",
   "name": "python",
   "nbconvert_exporter": "python",
   "pygments_lexer": "ipython3",
   "version": "3.12.4"
  },
  "toc": {
   "base_numbering": 1,
   "nav_menu": {},
   "number_sections": true,
   "sideBar": true,
   "skip_h1_title": true,
   "title_cell": "Table of Contents",
   "title_sidebar": "Contents",
   "toc_cell": false,
   "toc_position": {},
   "toc_section_display": true,
   "toc_window_display": false
  }
 },
 "nbformat": 4,
 "nbformat_minor": 4
}
